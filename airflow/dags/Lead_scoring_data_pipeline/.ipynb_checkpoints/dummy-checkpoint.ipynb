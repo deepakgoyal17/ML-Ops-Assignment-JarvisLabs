{
 "cells": [
  {
   "cell_type": "code",
   "execution_count": null,
   "id": "0757a2f6-ae82-41ed-a04a-89341dfbe6b6",
   "metadata": {},
   "outputs": [],
   "source": [
    "from utils import *"
   ]
  },
  {
   "cell_type": "code",
   "execution_count": null,
   "id": "fff573c0-1a27-44a2-a8db-f8eee545a065",
   "metadata": {},
   "outputs": [],
   "source": [
    "build_dbs()"
   ]
  },
  {
   "cell_type": "code",
   "execution_count": null,
   "id": "ccccba8c-2f35-4452-8296-1e2d6598a930",
   "metadata": {},
   "outputs": [],
   "source": [
    "conn = sqlite3.connect(DB_PATH+DB_FILE_NAME)"
   ]
  },
  {
   "cell_type": "code",
   "execution_count": null,
   "id": "8d94bc73-c35c-4d22-9d36-1db38423a368",
   "metadata": {},
   "outputs": [],
   "source": [
    "demo = pd.read_csv(DATA_DIRECTORY+'leadscoring_inference.csv')\n",
    "demo.info()"
   ]
  },
  {
   "cell_type": "code",
   "execution_count": null,
   "id": "27ab0a86-c228-4013-a21a-2b5ce6f3895a",
   "metadata": {},
   "outputs": [],
   "source": [
    "load_data_into_db()\n",
    "df_score = pd.read_sql('select * from loaded_data', conn)\n",
    "df_score.info()"
   ]
  },
  {
   "cell_type": "code",
   "execution_count": null,
   "id": "c9e561dc-e93c-45eb-a93d-58011dd0b952",
   "metadata": {},
   "outputs": [],
   "source": [
    "map_city_tier()"
   ]
  },
  {
   "cell_type": "code",
   "execution_count": null,
   "id": "102e2de7-b34b-4a03-83ad-48eab900a773",
   "metadata": {},
   "outputs": [],
   "source": [
    "df = pd.read_sql('select * from loaded_data', conn)\n",
    "df.head()"
   ]
  },
  {
   "cell_type": "code",
   "execution_count": null,
   "id": "fa38444a-f9bc-4eb6-86e2-c40335d0992f",
   "metadata": {},
   "outputs": [],
   "source": [
    "map_categorical_vars()"
   ]
  },
  {
   "cell_type": "code",
   "execution_count": null,
   "id": "ae4865ca-ffc5-454d-a48f-59cad333c4ca",
   "metadata": {},
   "outputs": [],
   "source": [
    "df = pd.read_sql('select * from city_tier_mapped', conn)\n",
    "df.head()"
   ]
  },
  {
   "cell_type": "code",
   "execution_count": null,
   "id": "b4bb8cb0-dbf9-4ad5-9ce2-0ad2b8a63cc1",
   "metadata": {},
   "outputs": [],
   "source": [
    "interactions_mapping()"
   ]
  },
  {
   "cell_type": "code",
   "execution_count": null,
   "id": "59671c49-bc4d-4cf4-b53b-351267d63dcd",
   "metadata": {},
   "outputs": [],
   "source": [
    "df = pd.read_sql('select * from categorical_variables_mapped', conn)\n",
    "df.head()"
   ]
  },
  {
   "cell_type": "code",
   "execution_count": null,
   "id": "f675451f-b98f-4350-8875-618f3c3b4d73",
   "metadata": {},
   "outputs": [],
   "source": [
    "df.shape()"
   ]
  }
 ],
 "metadata": {
  "kernelspec": {
   "display_name": "Python 3 (ipykernel)",
   "language": "python",
   "name": "python3"
  },
  "language_info": {
   "codemirror_mode": {
    "name": "ipython",
    "version": 3
   },
   "file_extension": ".py",
   "mimetype": "text/x-python",
   "name": "python",
   "nbconvert_exporter": "python",
   "pygments_lexer": "ipython3",
   "version": "3.8.12"
  }
 },
 "nbformat": 4,
 "nbformat_minor": 5
}
